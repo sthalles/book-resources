{
 "cells": [
  {
   "cell_type": "code",
   "execution_count": 1,
   "metadata": {
    "colab": {
     "base_uri": "https://localhost:8080/"
    },
    "id": "dBgedt4FXXvC",
    "outputId": "3cdd0dc6-fbcf-464f-f347-29880918dd64"
   },
   "outputs": [
    {
     "name": "stdout",
     "output_type": "stream",
     "text": [
      "Defaulting to user installation because normal site-packages is not writeable\r\n",
      "Looking in indexes: https://pypi.org/simple, https://pypi.ngc.nvidia.com\r\n",
      "Requirement already satisfied: tqdm in /opt/conda/lib/python3.8/site-packages (4.62.3)\r\n"
     ]
    }
   ],
   "source": [
    "# !pip install torchmetrics torch-summary\n",
    "!pip install tqdm"
   ]
  },
  {
   "cell_type": "code",
   "execution_count": 2,
   "metadata": {
    "id": "7rQ6rusF-8Mi"
   },
   "outputs": [],
   "source": [
    "import torch.nn as nn\n",
    "import torch\n",
    "from torchvision import datasets, transforms\n",
    "from torchsummary import summary\n",
    "from torchmetrics import Accuracy\n",
    "from tqdm import tqdm\n",
    "import matplotlib.pyplot as plt"
   ]
  },
  {
   "cell_type": "code",
   "execution_count": 3,
   "metadata": {},
   "outputs": [
    {
     "name": "stdout",
     "output_type": "stream",
     "text": [
      "PyTorch version: 1.11.0a0+bfe5ad2\n"
     ]
    }
   ],
   "source": [
    "print(\"PyTorch version:\", torch.__version__)"
   ]
  },
  {
   "cell_type": "code",
   "execution_count": 4,
   "metadata": {
    "colab": {
     "base_uri": "https://localhost:8080/"
    },
    "id": "HmZ0P89ZM6Dt",
    "outputId": "e862a7c9-c2f9-43f2-8bcd-f46c382d1949"
   },
   "outputs": [],
   "source": [
    "# !pip install -q netron\n",
    "# !curl --output smartreply.zip https://storage.googleapis.com/download.tensorflow.org/models/tflite/smartreply_1.0_2017_11_01.zip\n",
    "# !unzip smartreply.zip"
   ]
  },
  {
   "cell_type": "code",
   "execution_count": 5,
   "metadata": {
    "id": "TjZsv6riVOP9"
   },
   "outputs": [
    {
     "name": "stdout",
     "output_type": "stream",
     "text": [
      "Using device: cuda\n"
     ]
    }
   ],
   "source": [
    "device = \"cuda\" if torch.cuda.is_available() else \"cpu\"\n",
    "print(\"Using device:\", device)"
   ]
  },
  {
   "cell_type": "code",
   "execution_count": 6,
   "metadata": {
    "id": "ZQ3wWIEeAtO8"
   },
   "outputs": [],
   "source": [
    "class BasicBlock(nn.Module):\n",
    "  def __init__(self, in_channels, out_channels, stride):\n",
    "    super().__init__()\n",
    "    self.conv1 = nn.Conv2d(in_channels, out_channels, kernel_size=3, stride=stride, padding=1)\n",
    "    self.bn = nn.BatchNorm2d(out_channels)\n",
    "    self.relu = nn.ReLU(inplace=True)\n",
    "\n",
    "  def forward(self, x):\n",
    "    x = self.conv1(x)\n",
    "    x = self.bn(x)\n",
    "    x = self.relu(x)\n",
    "    return x"
   ]
  },
  {
   "cell_type": "code",
   "execution_count": 7,
   "metadata": {
    "id": "CjpQMRdoFhMh"
   },
   "outputs": [],
   "source": [
    "height = 32\n",
    "width= 32\n",
    "in_channels = 16\n",
    "fake_input = torch.rand(1,3,height,width)"
   ]
  },
  {
   "cell_type": "code",
   "execution_count": 8,
   "metadata": {
    "id": "DqUka0S-Fbk3"
   },
   "outputs": [],
   "source": [
    "block = BasicBlock(3,in_channels,1)\n",
    "out = block(fake_input)\n",
    "assert out.shape == (1,in_channels,height,width), f\"Unexpented shape of {out.shape}\""
   ]
  },
  {
   "cell_type": "code",
   "execution_count": 9,
   "metadata": {
    "id": "v-ZqCOF4E8Wn"
   },
   "outputs": [],
   "source": [
    "block = BasicBlock(3,16,2)\n",
    "out = block(fake_input)\n",
    "assert out.shape == (1,in_channels,height//2,width//2), f\"Unexpented shape of {out.shape}\""
   ]
  },
  {
   "cell_type": "code",
   "execution_count": 10,
   "metadata": {
    "id": "wtYV_6sy_Twg"
   },
   "outputs": [],
   "source": [
    "class PlainNetwork(nn.Module):\n",
    "  def __init__(self, n):\n",
    "    super().__init__()\n",
    "    self.conv1 = nn.Conv2d(3, 16, kernel_size=3, padding=1, stride=1)\n",
    "  \n",
    "    self.layer1 = self.make_layer(16, out_channels=16, stride=1, n_layers=2*n)\n",
    "    self.layer2 = self.make_layer(16, out_channels=32, stride=2, n_layers=2*n)\n",
    "    self.layer3 = self.make_layer(32, out_channels=64, stride=2, n_layers=2*n)\n",
    "    self.global_pooling = nn.AdaptiveAvgPool2d((1,1))\n",
    "    self.linear = nn.Linear(64, 10)\n",
    "\n",
    "  def make_layer(self, in_channels, out_channels, stride, n_layers):\n",
    "    layer = []\n",
    "    layer.append(BasicBlock(in_channels, out_channels, stride))\n",
    "    for i in range(n_layers-1):\n",
    "      layer.append(BasicBlock(out_channels, out_channels, 1))\n",
    "    return nn.Sequential(*layer)\n",
    "\n",
    "  def forward(self, x):\n",
    "    x = self.conv1(x)\n",
    "    x = self.layer1(x)\n",
    "    x = self.layer2(x)\n",
    "    x = self.layer3(x)\n",
    "    x = self.global_pooling(x)\n",
    "    x = torch.flatten(x, 1)\n",
    "    x = self.linear(x)\n",
    "    return x"
   ]
  },
  {
   "cell_type": "code",
   "execution_count": 11,
   "metadata": {
    "colab": {
     "base_uri": "https://localhost:8080/"
    },
    "id": "H0rlU3JYGJFo",
    "outputId": "306e8b78-8c1e-4aff-8de1-a9db912392aa"
   },
   "outputs": [
    {
     "name": "stdout",
     "output_type": "stream",
     "text": [
      "==========================================================================================\n",
      "Layer (type:depth-idx)                   Output Shape              Param #\n",
      "==========================================================================================\n",
      "├─Conv2d: 1-1                            [-1, 16, 32, 32]          448\n",
      "├─Sequential: 1-2                        [-1, 16, 32, 32]          --\n",
      "|    └─BasicBlock: 2-1                   [-1, 16, 32, 32]          --\n",
      "|    |    └─Conv2d: 3-1                  [-1, 16, 32, 32]          2,320\n",
      "|    |    └─BatchNorm2d: 3-2             [-1, 16, 32, 32]          32\n",
      "|    |    └─ReLU: 3-3                    [-1, 16, 32, 32]          --\n",
      "|    └─BasicBlock: 2-2                   [-1, 16, 32, 32]          --\n",
      "|    |    └─Conv2d: 3-4                  [-1, 16, 32, 32]          2,320\n",
      "|    |    └─BatchNorm2d: 3-5             [-1, 16, 32, 32]          32\n",
      "|    |    └─ReLU: 3-6                    [-1, 16, 32, 32]          --\n",
      "|    └─BasicBlock: 2-3                   [-1, 16, 32, 32]          --\n",
      "|    |    └─Conv2d: 3-7                  [-1, 16, 32, 32]          2,320\n",
      "|    |    └─BatchNorm2d: 3-8             [-1, 16, 32, 32]          32\n",
      "|    |    └─ReLU: 3-9                    [-1, 16, 32, 32]          --\n",
      "|    └─BasicBlock: 2-4                   [-1, 16, 32, 32]          --\n",
      "|    |    └─Conv2d: 3-10                 [-1, 16, 32, 32]          2,320\n",
      "|    |    └─BatchNorm2d: 3-11            [-1, 16, 32, 32]          32\n",
      "|    |    └─ReLU: 3-12                   [-1, 16, 32, 32]          --\n",
      "|    └─BasicBlock: 2-5                   [-1, 16, 32, 32]          --\n",
      "|    |    └─Conv2d: 3-13                 [-1, 16, 32, 32]          2,320\n",
      "|    |    └─BatchNorm2d: 3-14            [-1, 16, 32, 32]          32\n",
      "|    |    └─ReLU: 3-15                   [-1, 16, 32, 32]          --\n",
      "|    └─BasicBlock: 2-6                   [-1, 16, 32, 32]          --\n",
      "|    |    └─Conv2d: 3-16                 [-1, 16, 32, 32]          2,320\n",
      "|    |    └─BatchNorm2d: 3-17            [-1, 16, 32, 32]          32\n",
      "|    |    └─ReLU: 3-18                   [-1, 16, 32, 32]          --\n",
      "├─Sequential: 1-3                        [-1, 32, 16, 16]          --\n",
      "|    └─BasicBlock: 2-7                   [-1, 32, 16, 16]          --\n",
      "|    |    └─Conv2d: 3-19                 [-1, 32, 16, 16]          4,640\n",
      "|    |    └─BatchNorm2d: 3-20            [-1, 32, 16, 16]          64\n",
      "|    |    └─ReLU: 3-21                   [-1, 32, 16, 16]          --\n",
      "|    └─BasicBlock: 2-8                   [-1, 32, 16, 16]          --\n",
      "|    |    └─Conv2d: 3-22                 [-1, 32, 16, 16]          9,248\n",
      "|    |    └─BatchNorm2d: 3-23            [-1, 32, 16, 16]          64\n",
      "|    |    └─ReLU: 3-24                   [-1, 32, 16, 16]          --\n",
      "|    └─BasicBlock: 2-9                   [-1, 32, 16, 16]          --\n",
      "|    |    └─Conv2d: 3-25                 [-1, 32, 16, 16]          9,248\n",
      "|    |    └─BatchNorm2d: 3-26            [-1, 32, 16, 16]          64\n",
      "|    |    └─ReLU: 3-27                   [-1, 32, 16, 16]          --\n",
      "|    └─BasicBlock: 2-10                  [-1, 32, 16, 16]          --\n",
      "|    |    └─Conv2d: 3-28                 [-1, 32, 16, 16]          9,248\n",
      "|    |    └─BatchNorm2d: 3-29            [-1, 32, 16, 16]          64\n",
      "|    |    └─ReLU: 3-30                   [-1, 32, 16, 16]          --\n",
      "|    └─BasicBlock: 2-11                  [-1, 32, 16, 16]          --\n",
      "|    |    └─Conv2d: 3-31                 [-1, 32, 16, 16]          9,248\n",
      "|    |    └─BatchNorm2d: 3-32            [-1, 32, 16, 16]          64\n",
      "|    |    └─ReLU: 3-33                   [-1, 32, 16, 16]          --\n",
      "|    └─BasicBlock: 2-12                  [-1, 32, 16, 16]          --\n",
      "|    |    └─Conv2d: 3-34                 [-1, 32, 16, 16]          9,248\n",
      "|    |    └─BatchNorm2d: 3-35            [-1, 32, 16, 16]          64\n",
      "|    |    └─ReLU: 3-36                   [-1, 32, 16, 16]          --\n",
      "├─Sequential: 1-4                        [-1, 64, 8, 8]            --\n",
      "|    └─BasicBlock: 2-13                  [-1, 64, 8, 8]            --\n",
      "|    |    └─Conv2d: 3-37                 [-1, 64, 8, 8]            18,496\n",
      "|    |    └─BatchNorm2d: 3-38            [-1, 64, 8, 8]            128\n",
      "|    |    └─ReLU: 3-39                   [-1, 64, 8, 8]            --\n",
      "|    └─BasicBlock: 2-14                  [-1, 64, 8, 8]            --\n",
      "|    |    └─Conv2d: 3-40                 [-1, 64, 8, 8]            36,928\n",
      "|    |    └─BatchNorm2d: 3-41            [-1, 64, 8, 8]            128\n",
      "|    |    └─ReLU: 3-42                   [-1, 64, 8, 8]            --\n",
      "|    └─BasicBlock: 2-15                  [-1, 64, 8, 8]            --\n",
      "|    |    └─Conv2d: 3-43                 [-1, 64, 8, 8]            36,928\n",
      "|    |    └─BatchNorm2d: 3-44            [-1, 64, 8, 8]            128\n",
      "|    |    └─ReLU: 3-45                   [-1, 64, 8, 8]            --\n",
      "|    └─BasicBlock: 2-16                  [-1, 64, 8, 8]            --\n",
      "|    |    └─Conv2d: 3-46                 [-1, 64, 8, 8]            36,928\n",
      "|    |    └─BatchNorm2d: 3-47            [-1, 64, 8, 8]            128\n",
      "|    |    └─ReLU: 3-48                   [-1, 64, 8, 8]            --\n",
      "|    └─BasicBlock: 2-17                  [-1, 64, 8, 8]            --\n",
      "|    |    └─Conv2d: 3-49                 [-1, 64, 8, 8]            36,928\n",
      "|    |    └─BatchNorm2d: 3-50            [-1, 64, 8, 8]            128\n",
      "|    |    └─ReLU: 3-51                   [-1, 64, 8, 8]            --\n",
      "|    └─BasicBlock: 2-18                  [-1, 64, 8, 8]            --\n",
      "|    |    └─Conv2d: 3-52                 [-1, 64, 8, 8]            36,928\n",
      "|    |    └─BatchNorm2d: 3-53            [-1, 64, 8, 8]            128\n",
      "|    |    └─ReLU: 3-54                   [-1, 64, 8, 8]            --\n",
      "├─AdaptiveAvgPool2d: 1-5                 [-1, 64, 1, 1]            --\n",
      "├─Linear: 1-6                            [-1, 10]                  650\n",
      "==========================================================================================\n",
      "Total params: 270,378\n",
      "Trainable params: 270,378\n",
      "Non-trainable params: 0\n",
      "Total mult-adds (M): 41.09\n",
      "==========================================================================================\n",
      "Input size (MB): 0.01\n",
      "Forward/backward pass size (MB): 2.75\n",
      "Params size (MB): 1.03\n",
      "Estimated Total Size (MB): 3.79\n",
      "==========================================================================================\n"
     ]
    },
    {
     "data": {
      "text/plain": [
       "==========================================================================================\n",
       "Layer (type:depth-idx)                   Output Shape              Param #\n",
       "==========================================================================================\n",
       "├─Conv2d: 1-1                            [-1, 16, 32, 32]          448\n",
       "├─Sequential: 1-2                        [-1, 16, 32, 32]          --\n",
       "|    └─BasicBlock: 2-1                   [-1, 16, 32, 32]          --\n",
       "|    |    └─Conv2d: 3-1                  [-1, 16, 32, 32]          2,320\n",
       "|    |    └─BatchNorm2d: 3-2             [-1, 16, 32, 32]          32\n",
       "|    |    └─ReLU: 3-3                    [-1, 16, 32, 32]          --\n",
       "|    └─BasicBlock: 2-2                   [-1, 16, 32, 32]          --\n",
       "|    |    └─Conv2d: 3-4                  [-1, 16, 32, 32]          2,320\n",
       "|    |    └─BatchNorm2d: 3-5             [-1, 16, 32, 32]          32\n",
       "|    |    └─ReLU: 3-6                    [-1, 16, 32, 32]          --\n",
       "|    └─BasicBlock: 2-3                   [-1, 16, 32, 32]          --\n",
       "|    |    └─Conv2d: 3-7                  [-1, 16, 32, 32]          2,320\n",
       "|    |    └─BatchNorm2d: 3-8             [-1, 16, 32, 32]          32\n",
       "|    |    └─ReLU: 3-9                    [-1, 16, 32, 32]          --\n",
       "|    └─BasicBlock: 2-4                   [-1, 16, 32, 32]          --\n",
       "|    |    └─Conv2d: 3-10                 [-1, 16, 32, 32]          2,320\n",
       "|    |    └─BatchNorm2d: 3-11            [-1, 16, 32, 32]          32\n",
       "|    |    └─ReLU: 3-12                   [-1, 16, 32, 32]          --\n",
       "|    └─BasicBlock: 2-5                   [-1, 16, 32, 32]          --\n",
       "|    |    └─Conv2d: 3-13                 [-1, 16, 32, 32]          2,320\n",
       "|    |    └─BatchNorm2d: 3-14            [-1, 16, 32, 32]          32\n",
       "|    |    └─ReLU: 3-15                   [-1, 16, 32, 32]          --\n",
       "|    └─BasicBlock: 2-6                   [-1, 16, 32, 32]          --\n",
       "|    |    └─Conv2d: 3-16                 [-1, 16, 32, 32]          2,320\n",
       "|    |    └─BatchNorm2d: 3-17            [-1, 16, 32, 32]          32\n",
       "|    |    └─ReLU: 3-18                   [-1, 16, 32, 32]          --\n",
       "├─Sequential: 1-3                        [-1, 32, 16, 16]          --\n",
       "|    └─BasicBlock: 2-7                   [-1, 32, 16, 16]          --\n",
       "|    |    └─Conv2d: 3-19                 [-1, 32, 16, 16]          4,640\n",
       "|    |    └─BatchNorm2d: 3-20            [-1, 32, 16, 16]          64\n",
       "|    |    └─ReLU: 3-21                   [-1, 32, 16, 16]          --\n",
       "|    └─BasicBlock: 2-8                   [-1, 32, 16, 16]          --\n",
       "|    |    └─Conv2d: 3-22                 [-1, 32, 16, 16]          9,248\n",
       "|    |    └─BatchNorm2d: 3-23            [-1, 32, 16, 16]          64\n",
       "|    |    └─ReLU: 3-24                   [-1, 32, 16, 16]          --\n",
       "|    └─BasicBlock: 2-9                   [-1, 32, 16, 16]          --\n",
       "|    |    └─Conv2d: 3-25                 [-1, 32, 16, 16]          9,248\n",
       "|    |    └─BatchNorm2d: 3-26            [-1, 32, 16, 16]          64\n",
       "|    |    └─ReLU: 3-27                   [-1, 32, 16, 16]          --\n",
       "|    └─BasicBlock: 2-10                  [-1, 32, 16, 16]          --\n",
       "|    |    └─Conv2d: 3-28                 [-1, 32, 16, 16]          9,248\n",
       "|    |    └─BatchNorm2d: 3-29            [-1, 32, 16, 16]          64\n",
       "|    |    └─ReLU: 3-30                   [-1, 32, 16, 16]          --\n",
       "|    └─BasicBlock: 2-11                  [-1, 32, 16, 16]          --\n",
       "|    |    └─Conv2d: 3-31                 [-1, 32, 16, 16]          9,248\n",
       "|    |    └─BatchNorm2d: 3-32            [-1, 32, 16, 16]          64\n",
       "|    |    └─ReLU: 3-33                   [-1, 32, 16, 16]          --\n",
       "|    └─BasicBlock: 2-12                  [-1, 32, 16, 16]          --\n",
       "|    |    └─Conv2d: 3-34                 [-1, 32, 16, 16]          9,248\n",
       "|    |    └─BatchNorm2d: 3-35            [-1, 32, 16, 16]          64\n",
       "|    |    └─ReLU: 3-36                   [-1, 32, 16, 16]          --\n",
       "├─Sequential: 1-4                        [-1, 64, 8, 8]            --\n",
       "|    └─BasicBlock: 2-13                  [-1, 64, 8, 8]            --\n",
       "|    |    └─Conv2d: 3-37                 [-1, 64, 8, 8]            18,496\n",
       "|    |    └─BatchNorm2d: 3-38            [-1, 64, 8, 8]            128\n",
       "|    |    └─ReLU: 3-39                   [-1, 64, 8, 8]            --\n",
       "|    └─BasicBlock: 2-14                  [-1, 64, 8, 8]            --\n",
       "|    |    └─Conv2d: 3-40                 [-1, 64, 8, 8]            36,928\n",
       "|    |    └─BatchNorm2d: 3-41            [-1, 64, 8, 8]            128\n",
       "|    |    └─ReLU: 3-42                   [-1, 64, 8, 8]            --\n",
       "|    └─BasicBlock: 2-15                  [-1, 64, 8, 8]            --\n",
       "|    |    └─Conv2d: 3-43                 [-1, 64, 8, 8]            36,928\n",
       "|    |    └─BatchNorm2d: 3-44            [-1, 64, 8, 8]            128\n",
       "|    |    └─ReLU: 3-45                   [-1, 64, 8, 8]            --\n",
       "|    └─BasicBlock: 2-16                  [-1, 64, 8, 8]            --\n",
       "|    |    └─Conv2d: 3-46                 [-1, 64, 8, 8]            36,928\n",
       "|    |    └─BatchNorm2d: 3-47            [-1, 64, 8, 8]            128\n",
       "|    |    └─ReLU: 3-48                   [-1, 64, 8, 8]            --\n",
       "|    └─BasicBlock: 2-17                  [-1, 64, 8, 8]            --\n",
       "|    |    └─Conv2d: 3-49                 [-1, 64, 8, 8]            36,928\n",
       "|    |    └─BatchNorm2d: 3-50            [-1, 64, 8, 8]            128\n",
       "|    |    └─ReLU: 3-51                   [-1, 64, 8, 8]            --\n",
       "|    └─BasicBlock: 2-18                  [-1, 64, 8, 8]            --\n",
       "|    |    └─Conv2d: 3-52                 [-1, 64, 8, 8]            36,928\n",
       "|    |    └─BatchNorm2d: 3-53            [-1, 64, 8, 8]            128\n",
       "|    |    └─ReLU: 3-54                   [-1, 64, 8, 8]            --\n",
       "├─AdaptiveAvgPool2d: 1-5                 [-1, 64, 1, 1]            --\n",
       "├─Linear: 1-6                            [-1, 10]                  650\n",
       "==========================================================================================\n",
       "Total params: 270,378\n",
       "Trainable params: 270,378\n",
       "Non-trainable params: 0\n",
       "Total mult-adds (M): 41.09\n",
       "==========================================================================================\n",
       "Input size (MB): 0.01\n",
       "Forward/backward pass size (MB): 2.75\n",
       "Params size (MB): 1.03\n",
       "Estimated Total Size (MB): 3.79\n",
       "=========================================================================================="
      ]
     },
     "execution_count": 11,
     "metadata": {},
     "output_type": "execute_result"
    }
   ],
   "source": [
    "plainet20 = PlainNetwork(n=3)\n",
    "plainet20 = plainet20.to(device)\n",
    "summary(plainet20, (3,32,32))"
   ]
  },
  {
   "cell_type": "code",
   "execution_count": 12,
   "metadata": {
    "id": "KmoFGt4MGIZt"
   },
   "outputs": [],
   "source": [
    "# convert to onnx format\n",
    "model_path = \"./plainnet.pth\"\n",
    "_ = torch.onnx.export(plainet20.to(device), fake_input.to(device), model_path)"
   ]
  },
  {
   "cell_type": "code",
   "execution_count": 13,
   "metadata": {
    "colab": {
     "base_uri": "https://localhost:8080/",
     "height": 821
    },
    "id": "W8mu0_PbNOhJ",
    "outputId": "2f45e168-d45c-412b-9a67-ea737643762f"
   },
   "outputs": [],
   "source": [
    "# import netron\n",
    "# import portpicker\n",
    "# from google.colab import output\n",
    "\n",
    "# port = portpicker.pick_unused_port()\n",
    "\n",
    "# # Read the model file and start the netron browser.\n",
    "# with output.temporary():\n",
    "#   netron.start(model_path, port, browse=False)\n",
    "\n",
    "# output.serve_kernel_port_as_iframe(port, height='800')"
   ]
  },
  {
   "cell_type": "code",
   "execution_count": 14,
   "metadata": {
    "id": "i7pg6dXpA5Lm"
   },
   "outputs": [],
   "source": [
    "## training parameters\n",
    "weight_decay = 0.0001\n",
    "momentum = 0.9\n",
    "batch_size = 128\n",
    "learning_rate = 0.1"
   ]
  },
  {
   "cell_type": "code",
   "execution_count": 15,
   "metadata": {
    "id": "P3J_n6s8NtDe"
   },
   "outputs": [],
   "source": [
    "## We follow the simple data augmen-tation in [24] for training: 4 pixels\n",
    "## are padded on each side, and  a  32×32  crop  is  randomly  sampled  from  \n",
    "## the  padded image or its horizontal flip.  For testing, we only evaluate the\n",
    "## single view of the original 32×32 image\n",
    "\n",
    "train_augmentations = transforms.Compose([\n",
    "     transforms.RandomHorizontalFlip(p=0.5),\n",
    "     transforms.RandomCrop(size=32, padding=4, fill=0, padding_mode='constant'),\n",
    "     transforms.ToTensor()])\n",
    "\n",
    "test_augmentations = transforms.Compose([\n",
    "    transforms.ToTensor()\n",
    "])"
   ]
  },
  {
   "cell_type": "code",
   "execution_count": 16,
   "metadata": {
    "colab": {
     "base_uri": "https://localhost:8080/",
     "height": 83,
     "referenced_widgets": [
      "58894e73d2f945c48cb7d99b132cd99b",
      "18d5881e651e48e4a3d7a4d4704a4844",
      "40f9076ca5bc43f298ceefe554f3f7ed",
      "9376ae1083ff4588ac027380324c3e1b",
      "c859692c0a444a4b9c63a7a194c7e399",
      "4121d99db7be4d739aec8141cf94239e",
      "175833b441b145279c86e5a772616e70",
      "ee1e8c10abe64089a8179231b0c9218f",
      "357844bf12894e8e9c4451b72be046ed",
      "c0a3c69e4e754e0780a3f5e5c9480510",
      "4e9871159b924b43bb49c0a477cf1e94"
     ]
    },
    "id": "Xmvqrp6E_DdI",
    "outputId": "e5ad5a12-9c8d-4222-8d07-3e2be9034562"
   },
   "outputs": [
    {
     "name": "stdout",
     "output_type": "stream",
     "text": [
      "Files already downloaded and verified\n"
     ]
    }
   ],
   "source": [
    "train_dataset = datasets.CIFAR10(root=\".\", train = True, download=True, transform=train_augmentations)\n",
    "test_dataset = datasets.CIFAR10(root=\".\", train=False, transform=test_augmentations)"
   ]
  },
  {
   "cell_type": "code",
   "execution_count": 17,
   "metadata": {
    "id": "wtZdHuE_Q2qK"
   },
   "outputs": [],
   "source": [
    "train_loader = torch.utils.data.DataLoader(train_dataset, batch_size=batch_size, \n",
    "                                           shuffle=True, sampler=None, drop_last=True, \n",
    "                                           num_workers=0)\n",
    "\n",
    "test_loader = torch.utils.data.DataLoader(test_dataset, batch_size=batch_size, \n",
    "                                           shuffle=False, sampler=None, num_workers=0)"
   ]
  },
  {
   "cell_type": "code",
   "execution_count": 18,
   "metadata": {},
   "outputs": [
    {
     "name": "stdout",
     "output_type": "stream",
     "text": [
      "Train for 164 epochs.\n",
      "Learning rate decreases at epochs 82 and 123\n"
     ]
    }
   ],
   "source": [
    "total_epochs = round(64_000 / len(train_loader))\n",
    "lr_step1 = round(32_000 / len(train_loader))\n",
    "lr_step2 = round(48_000 / len(train_loader))\n",
    "print(f\"Train for {total_epochs} epochs.\")\n",
    "print(f\"Learning rate decreases at epochs {lr_step1} and {lr_step2}\")"
   ]
  },
  {
   "cell_type": "code",
   "execution_count": 19,
   "metadata": {
    "id": "dc-nsZehUoir"
   },
   "outputs": [],
   "source": [
    "optimizer = torch.optim.SGD(plainet20.parameters(), lr=learning_rate, \n",
    "                            weight_decay=weight_decay, momentum=momentum)\n",
    "scheduler = torch.optim.lr_scheduler.MultiStepLR(optimizer, milestones=[lr_step1, lr_step2], gamma=0.1)"
   ]
  },
  {
   "cell_type": "code",
   "execution_count": 20,
   "metadata": {},
   "outputs": [],
   "source": [
    "class Trainer:\n",
    "    \n",
    "    def __init__(self, epochs, optimizer, lr_scheduler, device):\n",
    "        self.epochs = epochs\n",
    "        self.optimizer = optimizer\n",
    "        self.lr_scheduler = lr_scheduler\n",
    "        self.accuracy = Accuracy(num_classes=10).to(device)\n",
    "        self.training_error = []\n",
    "        self.testing_error = []\n",
    "        self.loss_fn = nn.CrossEntropyLoss().to(device)\n",
    "        \n",
    "    def fit(self, model, train_loader, test_loader):\n",
    "        iter = 0\n",
    "        for epoch in tqdm(range(self.epochs)):\n",
    "            train_error = 0\n",
    "\n",
    "            model.train()\n",
    "            for x_batch, y_batch in train_loader:\n",
    "                x_batch = x_batch.to(device)\n",
    "                y_batch = y_batch.to(device)\n",
    "\n",
    "                logits = model(x_batch)\n",
    "                loss = self.loss_fn(logits, y_batch)\n",
    "                \n",
    "                train_acc = self.accuracy(logits, y_batch)\n",
    "                train_error += (1 - train_acc)\n",
    "                \n",
    "                self.optimizer.zero_grad()\n",
    "                loss.backward()\n",
    "                self.optimizer.step()\n",
    "\n",
    "                # if iter % 10 == 0:\n",
    "                #   print(f\"Epoch: {epoch}\\tLoss: {loss}\")\n",
    "\n",
    "                iter += 1\n",
    "\n",
    "            self.lr_scheduler.step()\n",
    "            train_error /= len(train_loader)\n",
    "            self.training_error.append(train_error.item())\n",
    "\n",
    "            model.eval()\n",
    "            test_error = 0\n",
    "\n",
    "            with torch.no_grad():\n",
    "                for x_batch, y_batch in test_loader:\n",
    "                    x_batch = x_batch.to(device)\n",
    "                    y_batch = y_batch.to(device)\n",
    "                    logits = model(x_batch)\n",
    "\n",
    "                    test_acc = self.accuracy(logits, y_batch)\n",
    "                    test_error += (1 - test_acc)\n",
    "\n",
    "                test_error /= len(test_loader)\n",
    "                self.testing_error.append(test_error.item())"
   ]
  },
  {
   "cell_type": "code",
   "execution_count": 21,
   "metadata": {
    "id": "RELAXzj4RGCu"
   },
   "outputs": [],
   "source": [
    "trainer = Trainer(total_epochs, optimizer, scheduler, device)"
   ]
  },
  {
   "cell_type": "code",
   "execution_count": null,
   "metadata": {},
   "outputs": [
    {
     "name": "stderr",
     "output_type": "stream",
     "text": [
      " 32%|███▏      | 53/164 [15:06<31:23, 16.97s/it]"
     ]
    }
   ],
   "source": [
    "trainer.fit(plainet20, train_loader, test_loader)"
   ]
  },
  {
   "cell_type": "code",
   "execution_count": null,
   "metadata": {
    "id": "OtvnZmuQc3Ac"
   },
   "outputs": [],
   "source": [
    "fig, ax = plt.subplots()\n",
    "line1, = ax.plot(trainer.training_error, label=\"Line 1\", color=\"red\", linestyle='--')\n",
    "line2, = ax.plot(trainer.testing_error, label=\"Line 2\", color=\"red\", linewidth=2)\n",
    "\n",
    "# Create a legend for the first line.\n",
    "first_legend = ax.legend(handles=[line1], loc='upper right')\n",
    "\n",
    "# Add the legend manually to the Axes.\n",
    "ax.add_artist(first_legend)\n",
    "\n",
    "plt.show()"
   ]
  }
 ],
 "metadata": {
  "accelerator": "GPU",
  "colab": {
   "provenance": []
  },
  "kernelspec": {
   "display_name": "Python 3 (ipykernel)",
   "language": "python",
   "name": "python3"
  },
  "language_info": {
   "codemirror_mode": {
    "name": "ipython",
    "version": 3
   },
   "file_extension": ".py",
   "mimetype": "text/x-python",
   "name": "python",
   "nbconvert_exporter": "python",
   "pygments_lexer": "ipython3",
   "version": "3.8.12"
  },
  "widgets": {
   "application/vnd.jupyter.widget-state+json": {
    "175833b441b145279c86e5a772616e70": {
     "model_module": "@jupyter-widgets/controls",
     "model_module_version": "1.5.0",
     "model_name": "DescriptionStyleModel",
     "state": {
      "_model_module": "@jupyter-widgets/controls",
      "_model_module_version": "1.5.0",
      "_model_name": "DescriptionStyleModel",
      "_view_count": null,
      "_view_module": "@jupyter-widgets/base",
      "_view_module_version": "1.2.0",
      "_view_name": "StyleView",
      "description_width": ""
     }
    },
    "18d5881e651e48e4a3d7a4d4704a4844": {
     "model_module": "@jupyter-widgets/controls",
     "model_module_version": "1.5.0",
     "model_name": "HTMLModel",
     "state": {
      "_dom_classes": [],
      "_model_module": "@jupyter-widgets/controls",
      "_model_module_version": "1.5.0",
      "_model_name": "HTMLModel",
      "_view_count": null,
      "_view_module": "@jupyter-widgets/controls",
      "_view_module_version": "1.5.0",
      "_view_name": "HTMLView",
      "description": "",
      "description_tooltip": null,
      "layout": "IPY_MODEL_4121d99db7be4d739aec8141cf94239e",
      "placeholder": "​",
      "style": "IPY_MODEL_175833b441b145279c86e5a772616e70",
      "value": "100%"
     }
    },
    "357844bf12894e8e9c4451b72be046ed": {
     "model_module": "@jupyter-widgets/controls",
     "model_module_version": "1.5.0",
     "model_name": "ProgressStyleModel",
     "state": {
      "_model_module": "@jupyter-widgets/controls",
      "_model_module_version": "1.5.0",
      "_model_name": "ProgressStyleModel",
      "_view_count": null,
      "_view_module": "@jupyter-widgets/base",
      "_view_module_version": "1.2.0",
      "_view_name": "StyleView",
      "bar_color": null,
      "description_width": ""
     }
    },
    "40f9076ca5bc43f298ceefe554f3f7ed": {
     "model_module": "@jupyter-widgets/controls",
     "model_module_version": "1.5.0",
     "model_name": "FloatProgressModel",
     "state": {
      "_dom_classes": [],
      "_model_module": "@jupyter-widgets/controls",
      "_model_module_version": "1.5.0",
      "_model_name": "FloatProgressModel",
      "_view_count": null,
      "_view_module": "@jupyter-widgets/controls",
      "_view_module_version": "1.5.0",
      "_view_name": "ProgressView",
      "bar_style": "success",
      "description": "",
      "description_tooltip": null,
      "layout": "IPY_MODEL_ee1e8c10abe64089a8179231b0c9218f",
      "max": 170498071,
      "min": 0,
      "orientation": "horizontal",
      "style": "IPY_MODEL_357844bf12894e8e9c4451b72be046ed",
      "value": 170498071
     }
    },
    "4121d99db7be4d739aec8141cf94239e": {
     "model_module": "@jupyter-widgets/base",
     "model_module_version": "1.2.0",
     "model_name": "LayoutModel",
     "state": {
      "_model_module": "@jupyter-widgets/base",
      "_model_module_version": "1.2.0",
      "_model_name": "LayoutModel",
      "_view_count": null,
      "_view_module": "@jupyter-widgets/base",
      "_view_module_version": "1.2.0",
      "_view_name": "LayoutView",
      "align_content": null,
      "align_items": null,
      "align_self": null,
      "border": null,
      "bottom": null,
      "display": null,
      "flex": null,
      "flex_flow": null,
      "grid_area": null,
      "grid_auto_columns": null,
      "grid_auto_flow": null,
      "grid_auto_rows": null,
      "grid_column": null,
      "grid_gap": null,
      "grid_row": null,
      "grid_template_areas": null,
      "grid_template_columns": null,
      "grid_template_rows": null,
      "height": null,
      "justify_content": null,
      "justify_items": null,
      "left": null,
      "margin": null,
      "max_height": null,
      "max_width": null,
      "min_height": null,
      "min_width": null,
      "object_fit": null,
      "object_position": null,
      "order": null,
      "overflow": null,
      "overflow_x": null,
      "overflow_y": null,
      "padding": null,
      "right": null,
      "top": null,
      "visibility": null,
      "width": null
     }
    },
    "4e9871159b924b43bb49c0a477cf1e94": {
     "model_module": "@jupyter-widgets/controls",
     "model_module_version": "1.5.0",
     "model_name": "DescriptionStyleModel",
     "state": {
      "_model_module": "@jupyter-widgets/controls",
      "_model_module_version": "1.5.0",
      "_model_name": "DescriptionStyleModel",
      "_view_count": null,
      "_view_module": "@jupyter-widgets/base",
      "_view_module_version": "1.2.0",
      "_view_name": "StyleView",
      "description_width": ""
     }
    },
    "58894e73d2f945c48cb7d99b132cd99b": {
     "model_module": "@jupyter-widgets/controls",
     "model_module_version": "1.5.0",
     "model_name": "HBoxModel",
     "state": {
      "_dom_classes": [],
      "_model_module": "@jupyter-widgets/controls",
      "_model_module_version": "1.5.0",
      "_model_name": "HBoxModel",
      "_view_count": null,
      "_view_module": "@jupyter-widgets/controls",
      "_view_module_version": "1.5.0",
      "_view_name": "HBoxView",
      "box_style": "",
      "children": [
       "IPY_MODEL_18d5881e651e48e4a3d7a4d4704a4844",
       "IPY_MODEL_40f9076ca5bc43f298ceefe554f3f7ed",
       "IPY_MODEL_9376ae1083ff4588ac027380324c3e1b"
      ],
      "layout": "IPY_MODEL_c859692c0a444a4b9c63a7a194c7e399"
     }
    },
    "9376ae1083ff4588ac027380324c3e1b": {
     "model_module": "@jupyter-widgets/controls",
     "model_module_version": "1.5.0",
     "model_name": "HTMLModel",
     "state": {
      "_dom_classes": [],
      "_model_module": "@jupyter-widgets/controls",
      "_model_module_version": "1.5.0",
      "_model_name": "HTMLModel",
      "_view_count": null,
      "_view_module": "@jupyter-widgets/controls",
      "_view_module_version": "1.5.0",
      "_view_name": "HTMLView",
      "description": "",
      "description_tooltip": null,
      "layout": "IPY_MODEL_c0a3c69e4e754e0780a3f5e5c9480510",
      "placeholder": "​",
      "style": "IPY_MODEL_4e9871159b924b43bb49c0a477cf1e94",
      "value": " 170498071/170498071 [00:14&lt;00:00, 12791465.11it/s]"
     }
    },
    "c0a3c69e4e754e0780a3f5e5c9480510": {
     "model_module": "@jupyter-widgets/base",
     "model_module_version": "1.2.0",
     "model_name": "LayoutModel",
     "state": {
      "_model_module": "@jupyter-widgets/base",
      "_model_module_version": "1.2.0",
      "_model_name": "LayoutModel",
      "_view_count": null,
      "_view_module": "@jupyter-widgets/base",
      "_view_module_version": "1.2.0",
      "_view_name": "LayoutView",
      "align_content": null,
      "align_items": null,
      "align_self": null,
      "border": null,
      "bottom": null,
      "display": null,
      "flex": null,
      "flex_flow": null,
      "grid_area": null,
      "grid_auto_columns": null,
      "grid_auto_flow": null,
      "grid_auto_rows": null,
      "grid_column": null,
      "grid_gap": null,
      "grid_row": null,
      "grid_template_areas": null,
      "grid_template_columns": null,
      "grid_template_rows": null,
      "height": null,
      "justify_content": null,
      "justify_items": null,
      "left": null,
      "margin": null,
      "max_height": null,
      "max_width": null,
      "min_height": null,
      "min_width": null,
      "object_fit": null,
      "object_position": null,
      "order": null,
      "overflow": null,
      "overflow_x": null,
      "overflow_y": null,
      "padding": null,
      "right": null,
      "top": null,
      "visibility": null,
      "width": null
     }
    },
    "c859692c0a444a4b9c63a7a194c7e399": {
     "model_module": "@jupyter-widgets/base",
     "model_module_version": "1.2.0",
     "model_name": "LayoutModel",
     "state": {
      "_model_module": "@jupyter-widgets/base",
      "_model_module_version": "1.2.0",
      "_model_name": "LayoutModel",
      "_view_count": null,
      "_view_module": "@jupyter-widgets/base",
      "_view_module_version": "1.2.0",
      "_view_name": "LayoutView",
      "align_content": null,
      "align_items": null,
      "align_self": null,
      "border": null,
      "bottom": null,
      "display": null,
      "flex": null,
      "flex_flow": null,
      "grid_area": null,
      "grid_auto_columns": null,
      "grid_auto_flow": null,
      "grid_auto_rows": null,
      "grid_column": null,
      "grid_gap": null,
      "grid_row": null,
      "grid_template_areas": null,
      "grid_template_columns": null,
      "grid_template_rows": null,
      "height": null,
      "justify_content": null,
      "justify_items": null,
      "left": null,
      "margin": null,
      "max_height": null,
      "max_width": null,
      "min_height": null,
      "min_width": null,
      "object_fit": null,
      "object_position": null,
      "order": null,
      "overflow": null,
      "overflow_x": null,
      "overflow_y": null,
      "padding": null,
      "right": null,
      "top": null,
      "visibility": null,
      "width": null
     }
    },
    "ee1e8c10abe64089a8179231b0c9218f": {
     "model_module": "@jupyter-widgets/base",
     "model_module_version": "1.2.0",
     "model_name": "LayoutModel",
     "state": {
      "_model_module": "@jupyter-widgets/base",
      "_model_module_version": "1.2.0",
      "_model_name": "LayoutModel",
      "_view_count": null,
      "_view_module": "@jupyter-widgets/base",
      "_view_module_version": "1.2.0",
      "_view_name": "LayoutView",
      "align_content": null,
      "align_items": null,
      "align_self": null,
      "border": null,
      "bottom": null,
      "display": null,
      "flex": null,
      "flex_flow": null,
      "grid_area": null,
      "grid_auto_columns": null,
      "grid_auto_flow": null,
      "grid_auto_rows": null,
      "grid_column": null,
      "grid_gap": null,
      "grid_row": null,
      "grid_template_areas": null,
      "grid_template_columns": null,
      "grid_template_rows": null,
      "height": null,
      "justify_content": null,
      "justify_items": null,
      "left": null,
      "margin": null,
      "max_height": null,
      "max_width": null,
      "min_height": null,
      "min_width": null,
      "object_fit": null,
      "object_position": null,
      "order": null,
      "overflow": null,
      "overflow_x": null,
      "overflow_y": null,
      "padding": null,
      "right": null,
      "top": null,
      "visibility": null,
      "width": null
     }
    }
   }
  }
 },
 "nbformat": 4,
 "nbformat_minor": 1
}
