{
  "cells": [
    {
      "cell_type": "markdown",
      "metadata": {
        "id": "view-in-github",
        "colab_type": "text"
      },
      "source": [
        "<a href=\"https://colab.research.google.com/github/sthalles/book-resources/blob/main/chapter1/resnet_plain_network_experiments.ipynb\" target=\"_parent\"><img src=\"https://colab.research.google.com/assets/colab-badge.svg\" alt=\"Open In Colab\"/></a>"
      ]
    },
    {
      "cell_type": "code",
      "execution_count": 1,
      "metadata": {
        "colab": {
          "base_uri": "https://localhost:8080/"
        },
        "id": "dBgedt4FXXvC",
        "outputId": "7aa64d30-ad0d-4037-fec2-a7d440f73d28"
      },
      "outputs": [
        {
          "output_type": "stream",
          "name": "stdout",
          "text": [
            "Looking in indexes: https://pypi.org/simple, https://us-python.pkg.dev/colab-wheels/public/simple/\n",
            "Requirement already satisfied: torchmetrics in /usr/local/lib/python3.7/dist-packages (0.9.3)\n",
            "Requirement already satisfied: torch-summary in /usr/local/lib/python3.7/dist-packages (1.4.5)\n",
            "Requirement already satisfied: packaging in /usr/local/lib/python3.7/dist-packages (from torchmetrics) (21.3)\n",
            "Requirement already satisfied: numpy>=1.17.2 in /usr/local/lib/python3.7/dist-packages (from torchmetrics) (1.21.6)\n",
            "Requirement already satisfied: torch>=1.3.1 in /usr/local/lib/python3.7/dist-packages (from torchmetrics) (1.12.1+cu113)\n",
            "Requirement already satisfied: typing-extensions in /usr/local/lib/python3.7/dist-packages (from torchmetrics) (4.1.1)\n",
            "Requirement already satisfied: pyparsing!=3.0.5,>=2.0.2 in /usr/local/lib/python3.7/dist-packages (from packaging->torchmetrics) (3.0.9)\n",
            "Looking in indexes: https://pypi.org/simple, https://us-python.pkg.dev/colab-wheels/public/simple/\n",
            "Requirement already satisfied: tqdm in /usr/local/lib/python3.7/dist-packages (4.64.1)\n"
          ]
        }
      ],
      "source": [
        "!pip install torchmetrics torch-summary\n",
        "!pip install tqdm"
      ]
    },
    {
      "cell_type": "code",
      "execution_count": 2,
      "metadata": {
        "id": "7rQ6rusF-8Mi"
      },
      "outputs": [],
      "source": [
        "import torch.nn as nn\n",
        "import torch\n",
        "from torchvision import datasets, transforms\n",
        "from torchsummary import summary\n",
        "from torchmetrics import Accuracy\n",
        "from tqdm import tqdm\n",
        "import matplotlib.pyplot as plt"
      ]
    },
    {
      "cell_type": "code",
      "execution_count": 3,
      "metadata": {
        "colab": {
          "base_uri": "https://localhost:8080/"
        },
        "id": "bugkPe_084re",
        "outputId": "e1d627c1-2536-4f0e-8b83-eaa2a6771941"
      },
      "outputs": [
        {
          "output_type": "stream",
          "name": "stdout",
          "text": [
            "PyTorch version: 1.12.1+cu113\n"
          ]
        }
      ],
      "source": [
        "print(\"PyTorch version:\", torch.__version__)"
      ]
    },
    {
      "cell_type": "code",
      "execution_count": 4,
      "metadata": {
        "id": "HmZ0P89ZM6Dt"
      },
      "outputs": [],
      "source": [
        "# !pip install -q netron\n",
        "# !curl --output smartreply.zip https://storage.googleapis.com/download.tensorflow.org/models/tflite/smartreply_1.0_2017_11_01.zip\n",
        "# !unzip smartreply.zip"
      ]
    },
    {
      "cell_type": "code",
      "execution_count": 5,
      "metadata": {
        "id": "TjZsv6riVOP9",
        "colab": {
          "base_uri": "https://localhost:8080/"
        },
        "outputId": "4b7bcad8-b2c7-4486-ab12-c1590f46ff5f"
      },
      "outputs": [
        {
          "output_type": "stream",
          "name": "stdout",
          "text": [
            "Using device: cuda\n"
          ]
        }
      ],
      "source": [
        "device = \"cuda\" if torch.cuda.is_available() else \"cpu\"\n",
        "print(\"Using device:\", device)"
      ]
    },
    {
      "cell_type": "code",
      "execution_count": 6,
      "metadata": {
        "id": "ZQ3wWIEeAtO8"
      },
      "outputs": [],
      "source": [
        "class BasicBlock(nn.Module):\n",
        "  def __init__(self, in_channels, out_channels, stride):\n",
        "    super().__init__()\n",
        "    self.conv1 = nn.Conv2d(in_channels, out_channels, kernel_size=3, stride=stride, padding=1)\n",
        "    self.bn = nn.BatchNorm2d(out_channels)\n",
        "    self.relu = nn.ReLU(inplace=True)\n",
        "\n",
        "  def forward(self, x):\n",
        "    x = self.conv1(x)\n",
        "    x = self.bn(x)\n",
        "    x = self.relu(x)\n",
        "    return x"
      ]
    },
    {
      "cell_type": "code",
      "execution_count": 7,
      "metadata": {
        "id": "CjpQMRdoFhMh"
      },
      "outputs": [],
      "source": [
        "height = 32\n",
        "width= 32\n",
        "in_channels = 16\n",
        "fake_input = torch.rand(1,3,height,width)"
      ]
    },
    {
      "cell_type": "code",
      "execution_count": 8,
      "metadata": {
        "id": "DqUka0S-Fbk3"
      },
      "outputs": [],
      "source": [
        "block = BasicBlock(3,in_channels,1)\n",
        "out = block(fake_input)\n",
        "assert out.shape == (1,in_channels,height,width), f\"Unexpented shape of {out.shape}\""
      ]
    },
    {
      "cell_type": "code",
      "execution_count": 9,
      "metadata": {
        "id": "v-ZqCOF4E8Wn"
      },
      "outputs": [],
      "source": [
        "block = BasicBlock(3,16,2)\n",
        "out = block(fake_input)\n",
        "assert out.shape == (1,in_channels,height//2,width//2), f\"Unexpented shape of {out.shape}\""
      ]
    },
    {
      "cell_type": "code",
      "execution_count": 10,
      "metadata": {
        "id": "wtYV_6sy_Twg"
      },
      "outputs": [],
      "source": [
        "class PlainNetwork(nn.Module):\n",
        "  def __init__(self, n):\n",
        "    super().__init__()\n",
        "    self.conv1 = nn.Conv2d(3, 16, kernel_size=3, padding=1, stride=1)\n",
        "  \n",
        "    self.layer1 = self.make_layer(16, out_channels=16, stride=1, n_layers=2*n)\n",
        "    self.layer2 = self.make_layer(16, out_channels=32, stride=2, n_layers=2*n)\n",
        "    self.layer3 = self.make_layer(32, out_channels=64, stride=2, n_layers=2*n)\n",
        "    self.global_pooling = nn.AdaptiveAvgPool2d((1,1))\n",
        "    self.linear = nn.Linear(64, 10)\n",
        "\n",
        "  def make_layer(self, in_channels, out_channels, stride, n_layers):\n",
        "    layer = []\n",
        "    layer.append(BasicBlock(in_channels, out_channels, stride))\n",
        "    for i in range(n_layers-1):\n",
        "      layer.append(BasicBlock(out_channels, out_channels, 1))\n",
        "    return nn.Sequential(*layer)\n",
        "\n",
        "  def forward(self, x):\n",
        "    x = self.conv1(x)\n",
        "    x = self.layer1(x)\n",
        "    x = self.layer2(x)\n",
        "    x = self.layer3(x)\n",
        "    x = self.global_pooling(x)\n",
        "    x = torch.flatten(x, 1)\n",
        "    x = self.linear(x)\n",
        "    return x"
      ]
    },
    {
      "cell_type": "code",
      "execution_count": 11,
      "metadata": {
        "colab": {
          "base_uri": "https://localhost:8080/"
        },
        "id": "H0rlU3JYGJFo",
        "outputId": "40888640-ff9d-43b1-ea88-4f01595b35d9"
      },
      "outputs": [
        {
          "output_type": "stream",
          "name": "stdout",
          "text": [
            "==========================================================================================\n",
            "Layer (type:depth-idx)                   Output Shape              Param #\n",
            "==========================================================================================\n",
            "├─Conv2d: 1-1                            [-1, 16, 32, 32]          448\n",
            "├─Sequential: 1-2                        [-1, 16, 32, 32]          --\n",
            "|    └─BasicBlock: 2-1                   [-1, 16, 32, 32]          --\n",
            "|    |    └─Conv2d: 3-1                  [-1, 16, 32, 32]          2,320\n",
            "|    |    └─BatchNorm2d: 3-2             [-1, 16, 32, 32]          32\n",
            "|    |    └─ReLU: 3-3                    [-1, 16, 32, 32]          --\n",
            "|    └─BasicBlock: 2-2                   [-1, 16, 32, 32]          --\n",
            "|    |    └─Conv2d: 3-4                  [-1, 16, 32, 32]          2,320\n",
            "|    |    └─BatchNorm2d: 3-5             [-1, 16, 32, 32]          32\n",
            "|    |    └─ReLU: 3-6                    [-1, 16, 32, 32]          --\n",
            "├─Sequential: 1-3                        [-1, 32, 16, 16]          --\n",
            "|    └─BasicBlock: 2-3                   [-1, 32, 16, 16]          --\n",
            "|    |    └─Conv2d: 3-7                  [-1, 32, 16, 16]          4,640\n",
            "|    |    └─BatchNorm2d: 3-8             [-1, 32, 16, 16]          64\n",
            "|    |    └─ReLU: 3-9                    [-1, 32, 16, 16]          --\n",
            "|    └─BasicBlock: 2-4                   [-1, 32, 16, 16]          --\n",
            "|    |    └─Conv2d: 3-10                 [-1, 32, 16, 16]          9,248\n",
            "|    |    └─BatchNorm2d: 3-11            [-1, 32, 16, 16]          64\n",
            "|    |    └─ReLU: 3-12                   [-1, 32, 16, 16]          --\n",
            "├─Sequential: 1-4                        [-1, 64, 8, 8]            --\n",
            "|    └─BasicBlock: 2-5                   [-1, 64, 8, 8]            --\n",
            "|    |    └─Conv2d: 3-13                 [-1, 64, 8, 8]            18,496\n",
            "|    |    └─BatchNorm2d: 3-14            [-1, 64, 8, 8]            128\n",
            "|    |    └─ReLU: 3-15                   [-1, 64, 8, 8]            --\n",
            "|    └─BasicBlock: 2-6                   [-1, 64, 8, 8]            --\n",
            "|    |    └─Conv2d: 3-16                 [-1, 64, 8, 8]            36,928\n",
            "|    |    └─BatchNorm2d: 3-17            [-1, 64, 8, 8]            128\n",
            "|    |    └─ReLU: 3-18                   [-1, 64, 8, 8]            --\n",
            "├─AdaptiveAvgPool2d: 1-5                 [-1, 64, 1, 1]            --\n",
            "├─Linear: 1-6                            [-1, 10]                  650\n",
            "==========================================================================================\n",
            "Total params: 75,498\n",
            "Trainable params: 75,498\n",
            "Non-trainable params: 0\n",
            "Total mult-adds (M): 12.39\n",
            "==========================================================================================\n",
            "Input size (MB): 0.01\n",
            "Forward/backward pass size (MB): 1.00\n",
            "Params size (MB): 0.29\n",
            "Estimated Total Size (MB): 1.30\n",
            "==========================================================================================\n"
          ]
        },
        {
          "output_type": "execute_result",
          "data": {
            "text/plain": [
              "==========================================================================================\n",
              "Layer (type:depth-idx)                   Output Shape              Param #\n",
              "==========================================================================================\n",
              "├─Conv2d: 1-1                            [-1, 16, 32, 32]          448\n",
              "├─Sequential: 1-2                        [-1, 16, 32, 32]          --\n",
              "|    └─BasicBlock: 2-1                   [-1, 16, 32, 32]          --\n",
              "|    |    └─Conv2d: 3-1                  [-1, 16, 32, 32]          2,320\n",
              "|    |    └─BatchNorm2d: 3-2             [-1, 16, 32, 32]          32\n",
              "|    |    └─ReLU: 3-3                    [-1, 16, 32, 32]          --\n",
              "|    └─BasicBlock: 2-2                   [-1, 16, 32, 32]          --\n",
              "|    |    └─Conv2d: 3-4                  [-1, 16, 32, 32]          2,320\n",
              "|    |    └─BatchNorm2d: 3-5             [-1, 16, 32, 32]          32\n",
              "|    |    └─ReLU: 3-6                    [-1, 16, 32, 32]          --\n",
              "├─Sequential: 1-3                        [-1, 32, 16, 16]          --\n",
              "|    └─BasicBlock: 2-3                   [-1, 32, 16, 16]          --\n",
              "|    |    └─Conv2d: 3-7                  [-1, 32, 16, 16]          4,640\n",
              "|    |    └─BatchNorm2d: 3-8             [-1, 32, 16, 16]          64\n",
              "|    |    └─ReLU: 3-9                    [-1, 32, 16, 16]          --\n",
              "|    └─BasicBlock: 2-4                   [-1, 32, 16, 16]          --\n",
              "|    |    └─Conv2d: 3-10                 [-1, 32, 16, 16]          9,248\n",
              "|    |    └─BatchNorm2d: 3-11            [-1, 32, 16, 16]          64\n",
              "|    |    └─ReLU: 3-12                   [-1, 32, 16, 16]          --\n",
              "├─Sequential: 1-4                        [-1, 64, 8, 8]            --\n",
              "|    └─BasicBlock: 2-5                   [-1, 64, 8, 8]            --\n",
              "|    |    └─Conv2d: 3-13                 [-1, 64, 8, 8]            18,496\n",
              "|    |    └─BatchNorm2d: 3-14            [-1, 64, 8, 8]            128\n",
              "|    |    └─ReLU: 3-15                   [-1, 64, 8, 8]            --\n",
              "|    └─BasicBlock: 2-6                   [-1, 64, 8, 8]            --\n",
              "|    |    └─Conv2d: 3-16                 [-1, 64, 8, 8]            36,928\n",
              "|    |    └─BatchNorm2d: 3-17            [-1, 64, 8, 8]            128\n",
              "|    |    └─ReLU: 3-18                   [-1, 64, 8, 8]            --\n",
              "├─AdaptiveAvgPool2d: 1-5                 [-1, 64, 1, 1]            --\n",
              "├─Linear: 1-6                            [-1, 10]                  650\n",
              "==========================================================================================\n",
              "Total params: 75,498\n",
              "Trainable params: 75,498\n",
              "Non-trainable params: 0\n",
              "Total mult-adds (M): 12.39\n",
              "==========================================================================================\n",
              "Input size (MB): 0.01\n",
              "Forward/backward pass size (MB): 1.00\n",
              "Params size (MB): 0.29\n",
              "Estimated Total Size (MB): 1.30\n",
              "=========================================================================================="
            ]
          },
          "metadata": {},
          "execution_count": 11
        }
      ],
      "source": [
        "model = PlainNetwork(n=1)\n",
        "model = model.to(device)\n",
        "summary(model, (3,32,32))"
      ]
    },
    {
      "cell_type": "code",
      "execution_count": 13,
      "metadata": {
        "id": "KmoFGt4MGIZt"
      },
      "outputs": [],
      "source": [
        "# convert to onnx format\n",
        "model_path = \"./plainnet.pth\"\n",
        "_ = torch.onnx.export(model.to(device), fake_input.to(device), model_path)"
      ]
    },
    {
      "cell_type": "code",
      "execution_count": 14,
      "metadata": {
        "id": "W8mu0_PbNOhJ"
      },
      "outputs": [],
      "source": [
        "# import netron\n",
        "# import portpicker\n",
        "# from google.colab import output\n",
        "\n",
        "# port = portpicker.pick_unused_port()\n",
        "\n",
        "# # Read the model file and start the netron browser.\n",
        "# with output.temporary():\n",
        "#   netron.start(model_path, port, browse=False)\n",
        "\n",
        "# output.serve_kernel_port_as_iframe(port, height='800')"
      ]
    },
    {
      "cell_type": "code",
      "execution_count": 15,
      "metadata": {
        "id": "i7pg6dXpA5Lm"
      },
      "outputs": [],
      "source": [
        "## training parameters\n",
        "weight_decay = 0.0001\n",
        "momentum = 0.9\n",
        "batch_size = 128\n",
        "learning_rate = 0.1"
      ]
    },
    {
      "cell_type": "code",
      "execution_count": 16,
      "metadata": {
        "id": "P3J_n6s8NtDe"
      },
      "outputs": [],
      "source": [
        "## We follow the simple data augmen-tation in [24] for training: 4 pixels\n",
        "## are padded on each side, and  a  32×32  crop  is  randomly  sampled  from  \n",
        "## the  padded image or its horizontal flip.  For testing, we only evaluate the\n",
        "## single view of the original 32×32 image\n",
        "\n",
        "train_augmentations = transforms.Compose([\n",
        "     transforms.RandomHorizontalFlip(p=0.5),\n",
        "     transforms.RandomCrop(size=32, padding=4, fill=0, padding_mode='constant'),\n",
        "     transforms.ToTensor()])\n",
        "\n",
        "test_augmentations = transforms.Compose([\n",
        "    transforms.ToTensor()\n",
        "])"
      ]
    },
    {
      "cell_type": "code",
      "execution_count": 17,
      "metadata": {
        "colab": {
          "base_uri": "https://localhost:8080/"
        },
        "id": "Xmvqrp6E_DdI",
        "outputId": "09150599-0792-496a-9959-f253a8c3dc68"
      },
      "outputs": [
        {
          "output_type": "stream",
          "name": "stdout",
          "text": [
            "Files already downloaded and verified\n"
          ]
        }
      ],
      "source": [
        "train_dataset = datasets.CIFAR10(root=\".\", train = True, download=True, transform=train_augmentations)\n",
        "test_dataset = datasets.CIFAR10(root=\".\", train=False, transform=test_augmentations)"
      ]
    },
    {
      "cell_type": "code",
      "execution_count": 18,
      "metadata": {
        "id": "wtZdHuE_Q2qK"
      },
      "outputs": [],
      "source": [
        "train_loader = torch.utils.data.DataLoader(train_dataset, batch_size=batch_size, \n",
        "                                           shuffle=True, sampler=None, drop_last=True, \n",
        "                                           num_workers=0)\n",
        "\n",
        "test_loader = torch.utils.data.DataLoader(test_dataset, batch_size=batch_size, \n",
        "                                           shuffle=False, sampler=None, num_workers=0)"
      ]
    },
    {
      "cell_type": "code",
      "execution_count": 19,
      "metadata": {
        "colab": {
          "base_uri": "https://localhost:8080/"
        },
        "id": "OrBFjihp84rl",
        "outputId": "9abd0267-1958-4c23-e382-dd219d0ab2d7"
      },
      "outputs": [
        {
          "output_type": "stream",
          "name": "stdout",
          "text": [
            "Train for 164 epochs.\n",
            "Learning rate decreases at epochs 82 and 123\n"
          ]
        }
      ],
      "source": [
        "total_epochs = round(64_000 / len(train_loader))\n",
        "lr_step1 = round(32_000 / len(train_loader))\n",
        "lr_step2 = round(48_000 / len(train_loader))\n",
        "print(f\"Train for {total_epochs} epochs.\")\n",
        "print(f\"Learning rate decreases at epochs {lr_step1} and {lr_step2}\")"
      ]
    },
    {
      "cell_type": "code",
      "execution_count": 20,
      "metadata": {
        "id": "wEIuYjG984rm"
      },
      "outputs": [],
      "source": [
        "class Trainer:\n",
        "    \n",
        "    def __init__(self, epochs, optimizer, lr_scheduler, device):\n",
        "        self.epochs = epochs\n",
        "        self.optimizer = optimizer\n",
        "        self.lr_scheduler = lr_scheduler\n",
        "        self.accuracy = Accuracy(num_classes=10).to(device)\n",
        "        self.training_error = []\n",
        "        self.testing_error = []\n",
        "        self.loss_fn = nn.CrossEntropyLoss().to(device)\n",
        "        \n",
        "    def fit(self, model, train_loader, test_loader):\n",
        "        iter = 0\n",
        "        for epoch in tqdm(range(self.epochs)):\n",
        "            train_error = 0\n",
        "\n",
        "            model.train()\n",
        "            for x_batch, y_batch in train_loader:\n",
        "                x_batch = x_batch.to(device)\n",
        "                y_batch = y_batch.to(device)\n",
        "\n",
        "                logits = model(x_batch)\n",
        "                loss = self.loss_fn(logits, y_batch)\n",
        "                \n",
        "                train_acc = 100 * self.accuracy(logits, y_batch)\n",
        "                train_error += (100 - train_acc)\n",
        "                \n",
        "                self.optimizer.zero_grad()\n",
        "                loss.backward()\n",
        "                self.optimizer.step()\n",
        "\n",
        "                # if iter % 10 == 0:\n",
        "                #   print(f\"Epoch: {epoch}\\tLoss: {loss}\")\n",
        "\n",
        "                iter += 1\n",
        "\n",
        "            self.lr_scheduler.step()\n",
        "            train_error /= len(train_loader)\n",
        "            self.training_error.append(train_error.item())\n",
        "\n",
        "            model.eval()\n",
        "            test_error = 0\n",
        "\n",
        "            with torch.no_grad():\n",
        "                for x_batch, y_batch in test_loader:\n",
        "                    x_batch = x_batch.to(device)\n",
        "                    y_batch = y_batch.to(device)\n",
        "                    logits = model(x_batch)\n",
        "\n",
        "                    test_acc = 100 * self.accuracy(logits, y_batch)\n",
        "                    test_error += (100 - test_acc)\n",
        "\n",
        "                test_error /= len(test_loader)\n",
        "                self.testing_error.append(test_error.item())"
      ]
    },
    {
      "cell_type": "markdown",
      "source": [
        "## Running the plain CNN for n=3"
      ],
      "metadata": {
        "id": "Gj7Gqmhk9YRU"
      }
    },
    {
      "cell_type": "code",
      "source": [
        "plainet20 = PlainNetwork(n=3)\n",
        "plainet20 = plainet20.to(device)"
      ],
      "metadata": {
        "id": "rufzW7Jl9dWs"
      },
      "execution_count": 21,
      "outputs": []
    },
    {
      "cell_type": "code",
      "execution_count": 22,
      "metadata": {
        "id": "dc-nsZehUoir"
      },
      "outputs": [],
      "source": [
        "optimizer = torch.optim.SGD(plainet20.parameters(), lr=learning_rate, \n",
        "                            weight_decay=weight_decay, momentum=momentum)\n",
        "scheduler = torch.optim.lr_scheduler.MultiStepLR(optimizer, milestones=[lr_step1, lr_step2], gamma=0.1)"
      ]
    },
    {
      "cell_type": "code",
      "execution_count": 23,
      "metadata": {
        "id": "RELAXzj4RGCu"
      },
      "outputs": [],
      "source": [
        "trainer20 = Trainer(total_epochs, optimizer, scheduler, device)"
      ]
    },
    {
      "cell_type": "code",
      "execution_count": 24,
      "metadata": {
        "colab": {
          "base_uri": "https://localhost:8080/"
        },
        "id": "kr3w3wZV84rn",
        "outputId": "68929732-1051-4b15-f719-3f5c6aae6ecf"
      },
      "outputs": [
        {
          "output_type": "stream",
          "name": "stderr",
          "text": [
            "100%|██████████| 164/164 [51:52<00:00, 18.98s/it]\n"
          ]
        }
      ],
      "source": [
        "trainer20.fit(plainet20, train_loader, test_loader)"
      ]
    },
    {
      "cell_type": "markdown",
      "source": [
        "## Running the plain CNN for n=5"
      ],
      "metadata": {
        "id": "Uiryjn4x870a"
      }
    },
    {
      "cell_type": "code",
      "source": [
        "plainet32 = PlainNetwork(n=5)\n",
        "plainet32 = plainet32.to(device)"
      ],
      "metadata": {
        "id": "WItRsqEb8_WE"
      },
      "execution_count": 29,
      "outputs": []
    },
    {
      "cell_type": "code",
      "source": [
        "optimizer = torch.optim.SGD(plainet32.parameters(), lr=learning_rate, \n",
        "                            weight_decay=weight_decay, momentum=momentum)\n",
        "scheduler = torch.optim.lr_scheduler.MultiStepLR(optimizer, milestones=[lr_step1, lr_step2], gamma=0.1)"
      ],
      "metadata": {
        "id": "8ZDLtYsD9BVU"
      },
      "execution_count": 30,
      "outputs": []
    },
    {
      "cell_type": "code",
      "source": [
        "trainer32 = Trainer(total_epochs, optimizer, scheduler, device)"
      ],
      "metadata": {
        "id": "oxa7Q4Hk9PdF"
      },
      "execution_count": 31,
      "outputs": []
    },
    {
      "cell_type": "code",
      "source": [
        "trainer32.fit(plainet32, train_loader, test_loader)"
      ],
      "metadata": {
        "colab": {
          "base_uri": "https://localhost:8080/"
        },
        "id": "qX1MtSIB9Pik",
        "outputId": "03da0696-0c19-4421-cdaa-9543cd1e5a31"
      },
      "execution_count": 33,
      "outputs": [
        {
          "output_type": "stream",
          "name": "stderr",
          "text": [
            "100%|██████████| 164/164 [1:01:09<00:00, 22.38s/it]\n"
          ]
        }
      ]
    },
    {
      "cell_type": "markdown",
      "source": [
        "## Running the plain CNN for n=7"
      ],
      "metadata": {
        "id": "KU5UQsHyfo6t"
      }
    },
    {
      "cell_type": "code",
      "source": [
        "plainet44 = PlainNetwork(n=7)\n",
        "plainet44 = plainet44.to(device)"
      ],
      "metadata": {
        "id": "y39g8udtfoFE"
      },
      "execution_count": 49,
      "outputs": []
    },
    {
      "cell_type": "code",
      "source": [
        "optimizer = torch.optim.SGD(plainet44.parameters(), lr=learning_rate, \n",
        "                            weight_decay=weight_decay, momentum=momentum)\n",
        "scheduler = torch.optim.lr_scheduler.MultiStepLR(optimizer, milestones=[lr_step1, lr_step2], gamma=0.1)"
      ],
      "metadata": {
        "id": "quXApsYvf1yP"
      },
      "execution_count": 50,
      "outputs": []
    },
    {
      "cell_type": "code",
      "source": [
        "trainer44 = Trainer(total_epochs, optimizer, scheduler, device)"
      ],
      "metadata": {
        "id": "ULxf4uILf28_"
      },
      "execution_count": 51,
      "outputs": []
    },
    {
      "cell_type": "code",
      "source": [
        "trainer44.fit(plainet44, train_loader, test_loader)"
      ],
      "metadata": {
        "colab": {
          "base_uri": "https://localhost:8080/"
        },
        "id": "JNBdPkv6f3BF",
        "outputId": "c94c2f74-3b9b-4cbb-8796-fa4080b73e9b"
      },
      "execution_count": 52,
      "outputs": [
        {
          "output_type": "stream",
          "name": "stderr",
          "text": [
            "100%|██████████| 164/164 [1:12:11<00:00, 26.41s/it]\n"
          ]
        }
      ]
    },
    {
      "cell_type": "markdown",
      "source": [
        "## Comparing and Visualizing training and test errors"
      ],
      "metadata": {
        "id": "pwyEJr5a9ppl"
      }
    },
    {
      "cell_type": "code",
      "execution_count": 56,
      "metadata": {
        "id": "OtvnZmuQc3Ac",
        "colab": {
          "base_uri": "https://localhost:8080/",
          "height": 497
        },
        "outputId": "40c64919-19e3-4765-f00b-ad4834ee3721"
      },
      "outputs": [
        {
          "output_type": "display_data",
          "data": {
            "text/plain": [
              "<Figure size 864x576 with 1 Axes>"
            ],
            "image/png": "[encoded data removed]"
          },
          "metadata": {
            "needs_background": "light"
          }
        }
      ],
      "source": [
        "def add_lines(ax, train_error, test_error, color, label):\n",
        "  line, = ax.plot(train_error, label=label, color=color, linestyle='--')\n",
        "  _, = ax.plot(test_error, color=color, linewidth=2)\n",
        "  return line\n",
        "\n",
        "fig, ax = plt.subplots(figsize=(12,8))\n",
        "line1 = add_lines(ax, trainer20.training_error, trainer20.testing_error, color=\"red\", label=\"plain-20\")\n",
        "line2 = add_lines(ax, trainer32.training_error, trainer32.testing_error, color=\"blue\", label=\"plain-32\")\n",
        "line3 = add_lines(ax, trainer44.training_error, trainer44.testing_error, color=\"green\", label=\"plain-44\")\n",
        "\n",
        "# Create a legend for the first line.\n",
        "legend = ax.legend(handles=[line1, line2, line3], loc='upper right')\n",
        "\n",
        "# Add the legend manually to the Axes.\n",
        "ax.add_artist(legend)\n",
        "ax.set_xlabel('epochs')\n",
        "ax.set_ylabel('error (%)')\n",
        "\n",
        "plt.savefig(\"plain-nets-experiment.svg\")\n",
        "plt.show()"
      ]
    },
    {
      "cell_type": "code",
      "source": [
        "import pandas as pd"
      ],
      "metadata": {
        "id": "k3h_w__L_Zkt"
      },
      "execution_count": 58,
      "outputs": []
    },
    {
      "cell_type": "code",
      "source": [
        "df = pd.DataFrame({\"epoch\": range(len(trainer20.training_error)),\n",
        "              \"plain-20-train-err\": trainer20.training_error,\n",
        "              \"plain-20-test-err\": trainer20.testing_error,\n",
        "              \"plain-32-train-err\": trainer32.training_error,\n",
        "              \"plain-32-test-err\": trainer32.testing_error,\n",
        "              \"plain-44-train-err\": trainer44.training_error,\n",
        "              \"plain-44-test-err\": trainer44.testing_error})\n",
        "df.to_csv('plain_net_experiment.csv', index=False)"
      ],
      "metadata": {
        "id": "i9mJrIANxdtE"
      },
      "execution_count": 67,
      "outputs": []
    },
    {
      "cell_type": "code",
      "source": [
        "df.head()"
      ],
      "metadata": {
        "colab": {
          "base_uri": "https://localhost:8080/",
          "height": 206
        },
        "id": "IRcPbbF1xm34",
        "outputId": "e5c77832-d23a-4b82-bcd2-896bb5cc19ad"
      },
      "execution_count": 69,
      "outputs": [
        {
          "output_type": "execute_result",
          "data": {
            "text/plain": [
              "   epoch  plain-20-train-err  plain-20-test-err  plain-32-train-err  \\\n",
              "0      0           68.824120          64.556961           77.003204   \n",
              "1      1           58.818111          53.965588           69.100563   \n",
              "2      2           49.641426          55.844543           63.567711   \n",
              "3      3           42.107372          41.851269           60.204330   \n",
              "4      4           35.701122          37.361553           55.993591   \n",
              "\n",
              "   plain-32-test-err  plain-44-train-err  plain-44-test-err  \n",
              "0          72.705696           78.727966          71.746445  \n",
              "1          67.899529           71.452324          69.462029  \n",
              "2          62.153877           68.820114          83.949768  \n",
              "3          58.781647           65.206329          68.621445  \n",
              "4          59.256332           62.770435          61.125397  "
            ],
            "text/html": [
              "\n",
              "  <div id=\"df-44057f06-180f-44f0-9ea8-45994982c37d\">\n",
              "    <div class=\"colab-df-container\">\n",
              "      <div>\n",
              "<style scoped>\n",
              "    .dataframe tbody tr th:only-of-type {\n",
              "        vertical-align: middle;\n",
              "    }\n",
              "\n",
              "    .dataframe tbody tr th {\n",
              "        vertical-align: top;\n",
              "    }\n",
              "\n",
              "    .dataframe thead th {\n",
              "        text-align: right;\n",
              "    }\n",
              "</style>\n",
              "<table border=\"1\" class=\"dataframe\">\n",
              "  <thead>\n",
              "    <tr style=\"text-align: right;\">\n",
              "      <th></th>\n",
              "      <th>epoch</th>\n",
              "      <th>plain-20-train-err</th>\n",
              "      <th>plain-20-test-err</th>\n",
              "      <th>plain-32-train-err</th>\n",
              "      <th>plain-32-test-err</th>\n",
              "      <th>plain-44-train-err</th>\n",
              "      <th>plain-44-test-err</th>\n",
              "    </tr>\n",
              "  </thead>\n",
              "  <tbody>\n",
              "    <tr>\n",
              "      <th>0</th>\n",
              "      <td>0</td>\n",
              "      <td>68.824120</td>\n",
              "      <td>64.556961</td>\n",
              "      <td>77.003204</td>\n",
              "      <td>72.705696</td>\n",
              "      <td>78.727966</td>\n",
              "      <td>71.746445</td>\n",
              "    </tr>\n",
              "    <tr>\n",
              "      <th>1</th>\n",
              "      <td>1</td>\n",
              "      <td>58.818111</td>\n",
              "      <td>53.965588</td>\n",
              "      <td>69.100563</td>\n",
              "      <td>67.899529</td>\n",
              "      <td>71.452324</td>\n",
              "      <td>69.462029</td>\n",
              "    </tr>\n",
              "    <tr>\n",
              "      <th>2</th>\n",
              "      <td>2</td>\n",
              "      <td>49.641426</td>\n",
              "      <td>55.844543</td>\n",
              "      <td>63.567711</td>\n",
              "      <td>62.153877</td>\n",
              "      <td>68.820114</td>\n",
              "      <td>83.949768</td>\n",
              "    </tr>\n",
              "    <tr>\n",
              "      <th>3</th>\n",
              "      <td>3</td>\n",
              "      <td>42.107372</td>\n",
              "      <td>41.851269</td>\n",
              "      <td>60.204330</td>\n",
              "      <td>58.781647</td>\n",
              "      <td>65.206329</td>\n",
              "      <td>68.621445</td>\n",
              "    </tr>\n",
              "    <tr>\n",
              "      <th>4</th>\n",
              "      <td>4</td>\n",
              "      <td>35.701122</td>\n",
              "      <td>37.361553</td>\n",
              "      <td>55.993591</td>\n",
              "      <td>59.256332</td>\n",
              "      <td>62.770435</td>\n",
              "      <td>61.125397</td>\n",
              "    </tr>\n",
              "  </tbody>\n",
              "</table>\n",
              "</div>\n",
              "      <button class=\"colab-df-convert\" onclick=\"convertToInteractive('df-44057f06-180f-44f0-9ea8-45994982c37d')\"\n",
              "              title=\"Convert this dataframe to an interactive table.\"\n",
              "              style=\"display:none;\">\n",
              "        \n",
              "  <svg xmlns=\"http://www.w3.org/2000/svg\" height=\"24px\"viewBox=\"0 0 24 24\"\n",
              "       width=\"24px\">\n",
              "    <path d=\"M0 0h24v24H0V0z\" fill=\"none\"/>\n",
              "    <path d=\"M18.56 5.44l.94 2.06.94-2.06 2.06-.94-2.06-.94-.94-2.06-.94 2.06-2.06.94zm-11 1L8.5 8.5l.94-2.06 2.06-.94-2.06-.94L8.5 2.5l-.94 2.06-2.06.94zm10 10l.94 2.06.94-2.06 2.06-.94-2.06-.94-.94-2.06-.94 2.06-2.06.94z\"/><path d=\"M17.41 7.96l-1.37-1.37c-.4-.4-.92-.59-1.43-.59-.52 0-1.04.2-1.43.59L10.3 9.45l-7.72 7.72c-.78.78-.78 2.05 0 2.83L4 21.41c.39.39.9.59 1.41.59.51 0 1.02-.2 1.41-.59l7.78-7.78 2.81-2.81c.8-.78.8-2.07 0-2.86zM5.41 20L4 18.59l7.72-7.72 1.47 1.35L5.41 20z\"/>\n",
              "  </svg>\n",
              "      </button>\n",
              "      \n",
              "  <style>\n",
              "    .colab-df-container {\n",
              "      display:flex;\n",
              "      flex-wrap:wrap;\n",
              "      gap: 12px;\n",
              "    }\n",
              "\n",
              "    .colab-df-convert {\n",
              "      background-color: #E8F0FE;\n",
              "      border: none;\n",
              "      border-radius: 50%;\n",
              "      cursor: pointer;\n",
              "      display: none;\n",
              "      fill: #1967D2;\n",
              "      height: 32px;\n",
              "      padding: 0 0 0 0;\n",
              "      width: 32px;\n",
              "    }\n",
              "\n",
              "    .colab-df-convert:hover {\n",
              "      background-color: #E2EBFA;\n",
              "      box-shadow: 0px 1px 2px rgba(60, 64, 67, 0.3), 0px 1px 3px 1px rgba(60, 64, 67, 0.15);\n",
              "      fill: #174EA6;\n",
              "    }\n",
              "\n",
              "    [theme=dark] .colab-df-convert {\n",
              "      background-color: #3B4455;\n",
              "      fill: #D2E3FC;\n",
              "    }\n",
              "\n",
              "    [theme=dark] .colab-df-convert:hover {\n",
              "      background-color: #434B5C;\n",
              "      box-shadow: 0px 1px 3px 1px rgba(0, 0, 0, 0.15);\n",
              "      filter: drop-shadow(0px 1px 2px rgba(0, 0, 0, 0.3));\n",
              "      fill: #FFFFFF;\n",
              "    }\n",
              "  </style>\n",
              "\n",
              "      <script>\n",
              "        const buttonEl =\n",
              "          document.querySelector('#df-44057f06-180f-44f0-9ea8-45994982c37d button.colab-df-convert');\n",
              "        buttonEl.style.display =\n",
              "          google.colab.kernel.accessAllowed ? 'block' : 'none';\n",
              "\n",
              "        async function convertToInteractive(key) {\n",
              "          const element = document.querySelector('#df-44057f06-180f-44f0-9ea8-45994982c37d');\n",
              "          const dataTable =\n",
              "            await google.colab.kernel.invokeFunction('convertToInteractive',\n",
              "                                                     [key], {});\n",
              "          if (!dataTable) return;\n",
              "\n",
              "          const docLinkHtml = 'Like what you see? Visit the ' +\n",
              "            '<a target=\"_blank\" href=https://colab.research.google.com/notebooks/data_table.ipynb>data table notebook</a>'\n",
              "            + ' to learn more about interactive tables.';\n",
              "          element.innerHTML = '';\n",
              "          dataTable['output_type'] = 'display_data';\n",
              "          await google.colab.output.renderOutput(dataTable, element);\n",
              "          const docLink = document.createElement('div');\n",
              "          docLink.innerHTML = docLinkHtml;\n",
              "          element.appendChild(docLink);\n",
              "        }\n",
              "      </script>\n",
              "    </div>\n",
              "  </div>\n",
              "  "
            ]
          },
          "metadata": {},
          "execution_count": 69
        }
      ]
    },
    {
      "cell_type": "code",
      "source": [],
      "metadata": {
        "id": "x2PEkEAf0Odl"
      },
      "execution_count": null,
      "outputs": []
    }
  ],
  "metadata": {
    "accelerator": "GPU",
    "colab": {
      "provenance": [],
      "include_colab_link": true
    },
    "kernelspec": {
      "display_name": "Python 3 (ipykernel)",
      "language": "python",
      "name": "python3"
    },
    "language_info": {
      "codemirror_mode": {
        "name": "ipython",
        "version": 3
      },
      "file_extension": ".py",
      "mimetype": "text/x-python",
      "name": "python",
      "nbconvert_exporter": "python",
      "pygments_lexer": "ipython3",
      "version": "3.8.12"
    }
  },
  "nbformat": 4,
  "nbformat_minor": 0
}